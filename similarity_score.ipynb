{
 "cells": [
  {
   "cell_type": "markdown",
   "id": "2c993719",
   "metadata": {},
   "source": [
    "### Load Dataframes"
   ]
  },
  {
   "cell_type": "code",
   "execution_count": 1,
   "id": "99c5c10a",
   "metadata": {},
   "outputs": [],
   "source": [
    "import pandas as pd\n",
    "df_books = pd.read_csv('books_clean.csv')\n",
    "df_authors = pd.read_csv('authors_clean.csv')\n",
    "df_reviews = pd.read_csv('reviews_clean.csv')"
   ]
  },
  {
   "cell_type": "code",
   "execution_count": 7,
   "id": "72d495a0",
   "metadata": {},
   "outputs": [
    {
     "name": "stdout",
     "output_type": "stream",
     "text": [
      "Index(['Title', 'description', 'authors', 'image', 'previewLink', 'publisher',\n",
      "       'publishedDate', 'infoLink', 'categories', 'main_author', 'genre',\n",
      "       'review_count', 'avg_rating', 'is_indie'],\n",
      "      dtype='object')\n"
     ]
    },
    {
     "data": {
      "application/vnd.microsoft.datawrangler.viewer.v0+json": {
       "columns": [
        {
         "name": "index",
         "rawType": "int64",
         "type": "integer"
        },
        {
         "name": "Title",
         "rawType": "object",
         "type": "string"
        },
        {
         "name": "description",
         "rawType": "object",
         "type": "string"
        },
        {
         "name": "authors",
         "rawType": "object",
         "type": "string"
        },
        {
         "name": "image",
         "rawType": "object",
         "type": "string"
        },
        {
         "name": "previewLink",
         "rawType": "object",
         "type": "string"
        },
        {
         "name": "publisher",
         "rawType": "object",
         "type": "string"
        },
        {
         "name": "publishedDate",
         "rawType": "object",
         "type": "string"
        },
        {
         "name": "infoLink",
         "rawType": "object",
         "type": "string"
        },
        {
         "name": "categories",
         "rawType": "object",
         "type": "string"
        },
        {
         "name": "main_author",
         "rawType": "object",
         "type": "string"
        },
        {
         "name": "genre",
         "rawType": "object",
         "type": "string"
        },
        {
         "name": "review_count",
         "rawType": "int64",
         "type": "integer"
        },
        {
         "name": "avg_rating",
         "rawType": "float64",
         "type": "float"
        },
        {
         "name": "is_indie",
         "rawType": "bool",
         "type": "boolean"
        }
       ],
       "ref": "3f4e1f22-cc75-48d7-9689-975451822462",
       "rows": [
        [
         "0",
         "Dr. Seuss: American Icon",
         "Philip Nel takes a fascinating look into the key aspects of Seuss's career - his poetry, politics, art, marketing, and place in the popular imagination.\" \"Nel argues convincingly that Dr. Seuss is one of the most influential poets in America. His nonsense verse, like that of Lewis Carroll and Edward Lear, has changed language itself, giving us new words like \"nerd.\" And Seuss's famously loopy artistic style - what Nel terms an \"energetic cartoon surrealism\" - has been equally important, inspiring artists like filmmaker Tim Burton and illustrator Lane Smith. --from back cover",
         "['Philip Nel']",
         "http://books.google.com/books/content?id=IjvHQsCn_pgC&printsec=frontcover&img=1&zoom=1&edge=curl&source=gbs_api",
         "http://books.google.nl/books?id=IjvHQsCn_pgC&printsec=frontcover&dq=Dr.+Seuss:+American+Icon&hl=&cd=1&source=gbs_api",
         "A&C Black",
         "2005-01-01",
         "http://books.google.nl/books?id=IjvHQsCn_pgC&dq=Dr.+Seuss:+American+Icon&hl=&source=gbs_api",
         "['Biography & Autobiography']",
         "Philip Nel",
         "Biography & Autobiography",
         "9",
         "4.555555555555555",
         "False"
        ],
        [
         "1",
         "Wonderful Worship in Smaller Churches",
         "This resource includes twelve principles in understanding small church worship, fifteen practices for planning worship with fewer than 100 people, and suggestions for congregational study.",
         "['David R Ray']",
         "http://books.google.com/books/content?id=2tsDAAAACAAJ&printsec=frontcover&img=1&zoom=1&source=gbs_api",
         "http://books.google.nl/books?id=2tsDAAAACAAJ&dq=Wonderful+Worship+in+Smaller+Churches&hl=&cd=1&source=gbs_api",
         "self-published",
         "2000",
         "http://books.google.nl/books?id=2tsDAAAACAAJ&dq=Wonderful+Worship+in+Smaller+Churches&hl=&source=gbs_api",
         "['Religion']",
         "David R Ray",
         "Religion",
         "4",
         "5.0",
         "True"
        ],
        [
         "2",
         "Whispers of the Wicked Saints",
         "Julia Thomas finds her life spinning out of control after the death of her husband, Richard. Julia turns to her minister for comfort when she finds herself falling for him with a passion that is forbidden by the church. Heath Sparks is a man of God who is busy taking care of his quadriplegic wife who was seriously injured in a sever car accident. In an innocent effort to reach out to a lonely member of his church, Heath finds himself as the man and not the minister as Heath and Julia surrender their bodies to each other and face the wrath of God. Julia finds herself in over her head as she faces a deadly disease, the loss of her home and whispers about her wicked affair. Julia leaves the states offering her body as a living sacrifice in hopes of finding a cure while her heart remains thousands of miles away hoping to one day reunite with the man who holds it hostage.Whispers of the Wicked Saints is a once in a lifetime romance that is breath taking, defying all the rules of romance and bending the laws of love.",
         "['Veronica Haddon']",
         "http://books.google.com/books/content?id=aRSIgJlq6JwC&printsec=frontcover&img=1&zoom=1&source=gbs_api",
         "http://books.google.nl/books?id=aRSIgJlq6JwC&dq=Whispers+of+the+Wicked+Saints&hl=&cd=1&source=gbs_api",
         "iUniverse",
         "2005-02",
         "http://books.google.nl/books?id=aRSIgJlq6JwC&dq=Whispers+of+the+Wicked+Saints&hl=&source=gbs_api",
         "['Fiction']",
         "Veronica Haddon",
         "Fiction",
         "32",
         "3.71875",
         "False"
        ],
        [
         "3",
         "The Church of Christ: A Biblical Ecclesiology for Today",
         "In The Church of Christ: A Biblical Ecclesiology for Today, respected biblical scholar Everett Ferguson presents a genuine biblical theology of the church. By systematically examining the New Testament's teaching on the existence, meaning, and purpose of the church, providing responsible coverage of the traditional topics in ecclesiology, and carefully grounding ecclesiology in the person and work of Christ, Ferguson unveils a comprehensive model of the church that is both biblically centered and relevant to a world on the verge of the twenty-first century.",
         "['Everett Ferguson']",
         "http://books.google.com/books/content?id=kVqRaiPlx88C&printsec=frontcover&img=1&zoom=1&edge=curl&source=gbs_api",
         "http://books.google.nl/books?id=kVqRaiPlx88C&printsec=frontcover&dq=The+Church+of+Christ:+A+Biblical+Ecclesiology+for+Today&hl=&cd=1&source=gbs_api",
         "Wm. B. Eerdmans Publishing",
         "1996",
         "http://books.google.nl/books?id=kVqRaiPlx88C&dq=The+Church+of+Christ:+A+Biblical+Ecclesiology+for+Today&hl=&source=gbs_api",
         "['Religion']",
         "Everett Ferguson",
         "Religion",
         "4",
         "4.5",
         "False"
        ],
        [
         "4",
         "Saint Hyacinth of Poland",
         "The story for children 10 and up of St. Hyacinth, the Dominican who planted the Faith in Poland, Lithuania and Russia and worked many miracles. He went to Rome, where he met St. Dominic, and was one of the first to receive at his hands the habit of the newly established Order of Friars Preachers. After his novitiate he made his religious profession, and was made superior of the little band of missionaries sent to Poland to preach. Impr. 189 pgs 16 Illus, PB",
         "['Mary Fabyan Windeatt']",
         "http://books.google.com/books/content?id=lmLqAAAACAAJ&printsec=frontcover&img=1&zoom=1&source=gbs_api",
         "http://books.google.nl/books?id=lmLqAAAACAAJ&dq=Saint+Hyacinth+of+Poland&hl=&cd=1&source=gbs_api",
         "Tan Books & Pub",
         "2009-01-01",
         "http://books.google.nl/books?id=lmLqAAAACAAJ&dq=Saint+Hyacinth+of+Poland&hl=&source=gbs_api",
         "['Biography & Autobiography']",
         "Mary Fabyan Windeatt",
         "Biography & Autobiography",
         "2",
         "4.5",
         "False"
        ]
       ],
       "shape": {
        "columns": 14,
        "rows": 5
       }
      },
      "text/html": [
       "<div>\n",
       "<style scoped>\n",
       "    .dataframe tbody tr th:only-of-type {\n",
       "        vertical-align: middle;\n",
       "    }\n",
       "\n",
       "    .dataframe tbody tr th {\n",
       "        vertical-align: top;\n",
       "    }\n",
       "\n",
       "    .dataframe thead th {\n",
       "        text-align: right;\n",
       "    }\n",
       "</style>\n",
       "<table border=\"1\" class=\"dataframe\">\n",
       "  <thead>\n",
       "    <tr style=\"text-align: right;\">\n",
       "      <th></th>\n",
       "      <th>Title</th>\n",
       "      <th>description</th>\n",
       "      <th>authors</th>\n",
       "      <th>image</th>\n",
       "      <th>previewLink</th>\n",
       "      <th>publisher</th>\n",
       "      <th>publishedDate</th>\n",
       "      <th>infoLink</th>\n",
       "      <th>categories</th>\n",
       "      <th>main_author</th>\n",
       "      <th>genre</th>\n",
       "      <th>review_count</th>\n",
       "      <th>avg_rating</th>\n",
       "      <th>is_indie</th>\n",
       "    </tr>\n",
       "  </thead>\n",
       "  <tbody>\n",
       "    <tr>\n",
       "      <th>0</th>\n",
       "      <td>Dr. Seuss: American Icon</td>\n",
       "      <td>Philip Nel takes a fascinating look into the k...</td>\n",
       "      <td>['Philip Nel']</td>\n",
       "      <td>http://books.google.com/books/content?id=IjvHQ...</td>\n",
       "      <td>http://books.google.nl/books?id=IjvHQsCn_pgC&amp;p...</td>\n",
       "      <td>A&amp;C Black</td>\n",
       "      <td>2005-01-01</td>\n",
       "      <td>http://books.google.nl/books?id=IjvHQsCn_pgC&amp;d...</td>\n",
       "      <td>['Biography &amp; Autobiography']</td>\n",
       "      <td>Philip Nel</td>\n",
       "      <td>Biography &amp; Autobiography</td>\n",
       "      <td>9</td>\n",
       "      <td>4.555556</td>\n",
       "      <td>False</td>\n",
       "    </tr>\n",
       "    <tr>\n",
       "      <th>1</th>\n",
       "      <td>Wonderful Worship in Smaller Churches</td>\n",
       "      <td>This resource includes twelve principles in un...</td>\n",
       "      <td>['David R Ray']</td>\n",
       "      <td>http://books.google.com/books/content?id=2tsDA...</td>\n",
       "      <td>http://books.google.nl/books?id=2tsDAAAACAAJ&amp;d...</td>\n",
       "      <td>self-published</td>\n",
       "      <td>2000</td>\n",
       "      <td>http://books.google.nl/books?id=2tsDAAAACAAJ&amp;d...</td>\n",
       "      <td>['Religion']</td>\n",
       "      <td>David R Ray</td>\n",
       "      <td>Religion</td>\n",
       "      <td>4</td>\n",
       "      <td>5.000000</td>\n",
       "      <td>True</td>\n",
       "    </tr>\n",
       "    <tr>\n",
       "      <th>2</th>\n",
       "      <td>Whispers of the Wicked Saints</td>\n",
       "      <td>Julia Thomas finds her life spinning out of co...</td>\n",
       "      <td>['Veronica Haddon']</td>\n",
       "      <td>http://books.google.com/books/content?id=aRSIg...</td>\n",
       "      <td>http://books.google.nl/books?id=aRSIgJlq6JwC&amp;d...</td>\n",
       "      <td>iUniverse</td>\n",
       "      <td>2005-02</td>\n",
       "      <td>http://books.google.nl/books?id=aRSIgJlq6JwC&amp;d...</td>\n",
       "      <td>['Fiction']</td>\n",
       "      <td>Veronica Haddon</td>\n",
       "      <td>Fiction</td>\n",
       "      <td>32</td>\n",
       "      <td>3.718750</td>\n",
       "      <td>False</td>\n",
       "    </tr>\n",
       "    <tr>\n",
       "      <th>3</th>\n",
       "      <td>The Church of Christ: A Biblical Ecclesiology ...</td>\n",
       "      <td>In The Church of Christ: A Biblical Ecclesiolo...</td>\n",
       "      <td>['Everett Ferguson']</td>\n",
       "      <td>http://books.google.com/books/content?id=kVqRa...</td>\n",
       "      <td>http://books.google.nl/books?id=kVqRaiPlx88C&amp;p...</td>\n",
       "      <td>Wm. B. Eerdmans Publishing</td>\n",
       "      <td>1996</td>\n",
       "      <td>http://books.google.nl/books?id=kVqRaiPlx88C&amp;d...</td>\n",
       "      <td>['Religion']</td>\n",
       "      <td>Everett Ferguson</td>\n",
       "      <td>Religion</td>\n",
       "      <td>4</td>\n",
       "      <td>4.500000</td>\n",
       "      <td>False</td>\n",
       "    </tr>\n",
       "    <tr>\n",
       "      <th>4</th>\n",
       "      <td>Saint Hyacinth of Poland</td>\n",
       "      <td>The story for children 10 and up of St. Hyacin...</td>\n",
       "      <td>['Mary Fabyan Windeatt']</td>\n",
       "      <td>http://books.google.com/books/content?id=lmLqA...</td>\n",
       "      <td>http://books.google.nl/books?id=lmLqAAAACAAJ&amp;d...</td>\n",
       "      <td>Tan Books &amp; Pub</td>\n",
       "      <td>2009-01-01</td>\n",
       "      <td>http://books.google.nl/books?id=lmLqAAAACAAJ&amp;d...</td>\n",
       "      <td>['Biography &amp; Autobiography']</td>\n",
       "      <td>Mary Fabyan Windeatt</td>\n",
       "      <td>Biography &amp; Autobiography</td>\n",
       "      <td>2</td>\n",
       "      <td>4.500000</td>\n",
       "      <td>False</td>\n",
       "    </tr>\n",
       "  </tbody>\n",
       "</table>\n",
       "</div>"
      ],
      "text/plain": [
       "                                               Title  \\\n",
       "0                           Dr. Seuss: American Icon   \n",
       "1              Wonderful Worship in Smaller Churches   \n",
       "2                      Whispers of the Wicked Saints   \n",
       "3  The Church of Christ: A Biblical Ecclesiology ...   \n",
       "4                           Saint Hyacinth of Poland   \n",
       "\n",
       "                                         description  \\\n",
       "0  Philip Nel takes a fascinating look into the k...   \n",
       "1  This resource includes twelve principles in un...   \n",
       "2  Julia Thomas finds her life spinning out of co...   \n",
       "3  In The Church of Christ: A Biblical Ecclesiolo...   \n",
       "4  The story for children 10 and up of St. Hyacin...   \n",
       "\n",
       "                    authors  \\\n",
       "0            ['Philip Nel']   \n",
       "1           ['David R Ray']   \n",
       "2       ['Veronica Haddon']   \n",
       "3      ['Everett Ferguson']   \n",
       "4  ['Mary Fabyan Windeatt']   \n",
       "\n",
       "                                               image  \\\n",
       "0  http://books.google.com/books/content?id=IjvHQ...   \n",
       "1  http://books.google.com/books/content?id=2tsDA...   \n",
       "2  http://books.google.com/books/content?id=aRSIg...   \n",
       "3  http://books.google.com/books/content?id=kVqRa...   \n",
       "4  http://books.google.com/books/content?id=lmLqA...   \n",
       "\n",
       "                                         previewLink  \\\n",
       "0  http://books.google.nl/books?id=IjvHQsCn_pgC&p...   \n",
       "1  http://books.google.nl/books?id=2tsDAAAACAAJ&d...   \n",
       "2  http://books.google.nl/books?id=aRSIgJlq6JwC&d...   \n",
       "3  http://books.google.nl/books?id=kVqRaiPlx88C&p...   \n",
       "4  http://books.google.nl/books?id=lmLqAAAACAAJ&d...   \n",
       "\n",
       "                    publisher publishedDate  \\\n",
       "0                   A&C Black    2005-01-01   \n",
       "1              self-published          2000   \n",
       "2                   iUniverse       2005-02   \n",
       "3  Wm. B. Eerdmans Publishing          1996   \n",
       "4             Tan Books & Pub    2009-01-01   \n",
       "\n",
       "                                            infoLink  \\\n",
       "0  http://books.google.nl/books?id=IjvHQsCn_pgC&d...   \n",
       "1  http://books.google.nl/books?id=2tsDAAAACAAJ&d...   \n",
       "2  http://books.google.nl/books?id=aRSIgJlq6JwC&d...   \n",
       "3  http://books.google.nl/books?id=kVqRaiPlx88C&d...   \n",
       "4  http://books.google.nl/books?id=lmLqAAAACAAJ&d...   \n",
       "\n",
       "                      categories           main_author  \\\n",
       "0  ['Biography & Autobiography']            Philip Nel   \n",
       "1                   ['Religion']           David R Ray   \n",
       "2                    ['Fiction']       Veronica Haddon   \n",
       "3                   ['Religion']      Everett Ferguson   \n",
       "4  ['Biography & Autobiography']  Mary Fabyan Windeatt   \n",
       "\n",
       "                       genre  review_count  avg_rating  is_indie  \n",
       "0  Biography & Autobiography             9    4.555556     False  \n",
       "1                   Religion             4    5.000000      True  \n",
       "2                    Fiction            32    3.718750     False  \n",
       "3                   Religion             4    4.500000     False  \n",
       "4  Biography & Autobiography             2    4.500000     False  "
      ]
     },
     "execution_count": 7,
     "metadata": {},
     "output_type": "execute_result"
    }
   ],
   "source": [
    "print(df_books.columns) \n",
    "df_books.head()"
   ]
  },
  {
   "cell_type": "code",
   "execution_count": 8,
   "id": "205d8c70",
   "metadata": {},
   "outputs": [
    {
     "name": "stdout",
     "output_type": "stream",
     "text": [
      "Index(['main_author', 'total_books', 'total_reviews', 'is_self_published',\n",
      "       'is_indie'],\n",
      "      dtype='object')\n"
     ]
    },
    {
     "data": {
      "application/vnd.microsoft.datawrangler.viewer.v0+json": {
       "columns": [
        {
         "name": "index",
         "rawType": "int64",
         "type": "integer"
        },
        {
         "name": "main_author",
         "rawType": "object",
         "type": "string"
        },
        {
         "name": "total_books",
         "rawType": "int64",
         "type": "integer"
        },
        {
         "name": "total_reviews",
         "rawType": "int64",
         "type": "integer"
        },
        {
         "name": "is_self_published",
         "rawType": "bool",
         "type": "boolean"
        },
        {
         "name": "is_indie",
         "rawType": "bool",
         "type": "boolean"
        }
       ],
       "ref": "05255732-e2aa-46fc-bc29-a87ef8a406f5",
       "rows": [
        [
         "0",
         " (Dr) Seuss",
         "1",
         "3",
         "True",
         "True"
        ],
        [
         "1",
         " Augustine",
         "1",
         "1",
         "False",
         "False"
        ],
        [
         "2",
         " Blizzard Entertainment",
         "1",
         "13",
         "False",
         "False"
        ],
        [
         "3",
         " Deiss",
         "1",
         "9",
         "False",
         "False"
        ],
        [
         "4",
         " Meystre-Sargent",
         "1",
         "2",
         "False",
         "False"
        ]
       ],
       "shape": {
        "columns": 5,
        "rows": 5
       }
      },
      "text/html": [
       "<div>\n",
       "<style scoped>\n",
       "    .dataframe tbody tr th:only-of-type {\n",
       "        vertical-align: middle;\n",
       "    }\n",
       "\n",
       "    .dataframe tbody tr th {\n",
       "        vertical-align: top;\n",
       "    }\n",
       "\n",
       "    .dataframe thead th {\n",
       "        text-align: right;\n",
       "    }\n",
       "</style>\n",
       "<table border=\"1\" class=\"dataframe\">\n",
       "  <thead>\n",
       "    <tr style=\"text-align: right;\">\n",
       "      <th></th>\n",
       "      <th>main_author</th>\n",
       "      <th>total_books</th>\n",
       "      <th>total_reviews</th>\n",
       "      <th>is_self_published</th>\n",
       "      <th>is_indie</th>\n",
       "    </tr>\n",
       "  </thead>\n",
       "  <tbody>\n",
       "    <tr>\n",
       "      <th>0</th>\n",
       "      <td>(Dr) Seuss</td>\n",
       "      <td>1</td>\n",
       "      <td>3</td>\n",
       "      <td>True</td>\n",
       "      <td>True</td>\n",
       "    </tr>\n",
       "    <tr>\n",
       "      <th>1</th>\n",
       "      <td>Augustine</td>\n",
       "      <td>1</td>\n",
       "      <td>1</td>\n",
       "      <td>False</td>\n",
       "      <td>False</td>\n",
       "    </tr>\n",
       "    <tr>\n",
       "      <th>2</th>\n",
       "      <td>Blizzard Entertainment</td>\n",
       "      <td>1</td>\n",
       "      <td>13</td>\n",
       "      <td>False</td>\n",
       "      <td>False</td>\n",
       "    </tr>\n",
       "    <tr>\n",
       "      <th>3</th>\n",
       "      <td>Deiss</td>\n",
       "      <td>1</td>\n",
       "      <td>9</td>\n",
       "      <td>False</td>\n",
       "      <td>False</td>\n",
       "    </tr>\n",
       "    <tr>\n",
       "      <th>4</th>\n",
       "      <td>Meystre-Sargent</td>\n",
       "      <td>1</td>\n",
       "      <td>2</td>\n",
       "      <td>False</td>\n",
       "      <td>False</td>\n",
       "    </tr>\n",
       "  </tbody>\n",
       "</table>\n",
       "</div>"
      ],
      "text/plain": [
       "               main_author  total_books  total_reviews  is_self_published  \\\n",
       "0               (Dr) Seuss            1              3               True   \n",
       "1                Augustine            1              1              False   \n",
       "2   Blizzard Entertainment            1             13              False   \n",
       "3                    Deiss            1              9              False   \n",
       "4          Meystre-Sargent            1              2              False   \n",
       "\n",
       "   is_indie  \n",
       "0      True  \n",
       "1     False  \n",
       "2     False  \n",
       "3     False  \n",
       "4     False  "
      ]
     },
     "execution_count": 8,
     "metadata": {},
     "output_type": "execute_result"
    }
   ],
   "source": [
    "print(df_authors.columns)\n",
    "df_authors.head()"
   ]
  },
  {
   "cell_type": "code",
   "execution_count": 9,
   "id": "c10e3967",
   "metadata": {},
   "outputs": [
    {
     "name": "stdout",
     "output_type": "stream",
     "text": [
      "Index(['ISBN', 'Title', 'rating', 'review_text'], dtype='object')\n"
     ]
    },
    {
     "data": {
      "application/vnd.microsoft.datawrangler.viewer.v0+json": {
       "columns": [
        {
         "name": "index",
         "rawType": "int64",
         "type": "integer"
        },
        {
         "name": "ISBN",
         "rawType": "object",
         "type": "string"
        },
        {
         "name": "Title",
         "rawType": "object",
         "type": "string"
        },
        {
         "name": "rating",
         "rawType": "float64",
         "type": "float"
        },
        {
         "name": "review_text",
         "rawType": "object",
         "type": "string"
        }
       ],
       "ref": "cca45161-7b0b-435b-b832-da7144990d52",
       "rows": [
        [
         "0",
         "0826414346",
         "Dr. Seuss: American Icon",
         "5.0",
         "I don't care much for Dr. Seuss but after reading Philip Nel's book I changed my mind--that's a good testimonial to the power of Rel's writing and thinking. Rel plays Dr. Seuss the ultimate compliment of treating him as a serious poet as well as one of the 20th century's most interesting visual artists, and after reading his book I decided that a trip to the Mandeville Collections of the library at University of California in San Diego was in order, so I could visit some of the incredible Seuss/Geisel holdings they have there.There's almost too much to take in, for, like William Butler Yeats, Seuss led a career that constantly shifted and metamoprhized itself to meet new historical and political cirsumstances, so he seems to have been both a leftist and a conservative at different junctures of his career, both in politics and in art. As Nel shows us, he was once a cartoonist for the fabled PM magazine and, like Andy Warhol, he served his time slaving in the ad business too. All was in the service of amusing and broadening the minds of US children. Nel doesn't hesitate to administer a sound spanking to the Seuss industry that, since his death, has seen fit to license all kinds of awful products including the recent CAT IN THE HAT film with Mike Myers. Oh, what a cat-astrophe!The book is great and I can especially recommend the work of the picture editor who has given us a bounty of good illustrations."
        ],
        [
         "1",
         "0826414346",
         "Dr. Seuss: American Icon",
         "5.0",
         "If people become the books they read and if \"the child is father to the man,\" then Dr. Seuss (Theodor Seuss Geisel) is the most influential author, poet, and artist of modern times. For me, a daddy to a large family who learned to read with Dr. Seuss and who has memorized too many of the books via repeated readings to young children, Prof. Nel's brilliant 'American Icon' is a long awaited treat. At last a serious treatment of this remarkable genius that is both an engaging read and filled with remarkable insights! I especially enjoyed (and learned more than I care to admit from) Prof. Nel's discussions of the Disneyfication of Seuss - which Nel links to failings in American copyright law, \"the other sides of Dr. Seuss\" - all of which sides were new to me, and the political genesis of his secular morality in the WWII cartoon work he did at PM magazine. The chapters on Geisel's poetry and artwork and the link Nel makes between Seuss and the historical avant guarde alone make this book a \"must buy\" for parents and serious readers, not to mention public libraries. Readers of Nel's other books will find the same engaging writing style that makes the book a fun read while imparting a mountain of information and important ideas. This is simply the best and most comprehensive book yet written on the work of Seuss Geisel and what will certainly be the standard for many years to come. Thank you, Prof. Nel, wherever you are, from a reader who grew up with the good doctor and who is growing up with him again years later. Your book, written from your encyclopeadic knowledge of children's literature and the media of this genre - from scanning verse to cubist painting! - explains the power, limits, and popularity of the Seuss phenomenon."
        ],
        [
         "2",
         "0826414346",
         "Dr. Seuss: American Icon",
         "4.0",
         "Theodore Seuss Geisel (1904-1991), aka &quot;Dr. Seuss,&quot; was one of the most influential writers and artists of the 20th century.In 1959, Rudolf Flesch wrote, &quot;A hundred years from now, children and their parents will still eagerly read the books of a fellow called Ted Geisel, popularly known as Dr. Seuss.&quot;Flesch was too conservative in his prediction. A century, and more, from today, Dr. Seuss will still be read when many authors on today's bestseller lists will be forgotten.Published on the centenary of Geisel's birth, Dr. Seuss: American Icon analyzes six key aspects of Seuss's career: poetry, politics, art, biography, marketing, and influence.In six insightful chapters, Philip Nel, Assistant Professor of English at Kansas State University, discusses &quot;U.S. Laureate of Nonsense,&quot; &quot;Dr. Seuss vs. Adolf Hitler,&quot; &quot;The Doc in the Smock,&quot; &quot;The 5,000 Fingers of Dr. S.,&quot; &quot;The Disneyfication of Dr. Seuss,&quot; and &quot;The Cat in the Hat for President.&quot;Nel gives short shrift to Geisel's childhood and family background--and, indeed, to biography in general--preferring to focus on Seuss's writing and art, from his first book, And to Think That I Saw It on Mulberry Street (1937) to his last book, Oh, the Places You'll Go! (1990).Dr. Seuss's breakthrough year was 1957, when he published the two books with which he is most often identified: The Cat in the Hat and How the Grinch Stole Christmas!Other classic works in the Seussian canon are: Horton Hears a Who! (&quot;A person's a person, no matter how small&quot;), Yertle the Turtle (modeled on the rise of Adolf Hitler), Green Eggs and Ham (Seuss's bestselling book), The Sneeches (a criticism of anti-Semitism), The Lorax (a protest against corporate abuse of the environment), and The Butter Battle Book (a critique of Reagan's enthusiasm for the nuclear arms trace).His favorite work, among the books he authored, was The Cat in the Hat, for it, more than any other, taught children to read.While many of his books have a clear and powerful moral, Seuss had a horror of heavy-handed preaching. He sought to teach and ignite the imagination, but was a lifelong opponent of smug, self-righteous bourgeois moralism.&quot;Seuss was a contrarian,&quot; writes Nel, &quot;who enjoyed challenging people to reconsider their assumptions. [He had a] rebellious imagination and a dispositional distaste for rules and regulations.&quot; His work was a &quot;rational insanity&quot; that exhibited &quot;joyous anarchy&quot; and a &quot;lifelong thrill in misbehaving.&quot;A better subtitle for Nel's work would have been American Icon and Iconoclast.Nel tells of Seuss's early years as an advertising artist and as a agitprop cartoonist. The book, however, is not a biography; it is a serious study in the genres of literary and art criticism.For readers who want more biographical information, Nel recommends Dr. Seuss and Mr. Geisel, by Judith Morgan and Neil Morgan (1995), which he describes as &quot;the definitive biography and the single best secondary source on Seuss. Any discussion of Seuss's life and work must begin with this book.&quot;Dr. Seuss: American Icon includes 103 pages of notes, index, and the most comprehensive annotated Seuss bibliography ever assembled. One learns a lot from this book; the author's lucid style makes it not only an enlightening work but a fun read.Philip Nel is the author of J. K. Rowling's Harry Potter Novels: A Reader's Guide (2001) and The Avant-Garde and American Postmodernity (2002).Roy E. Perry of Nolensville, Tennessee, is an advertising copywriter at a Nashville publishing house."
        ],
        [
         "3",
         "0826414346",
         "Dr. Seuss: American Icon",
         "4.0",
         "Philip Nel - Dr. Seuss: American IconThis is basically an academic overview of Seuss poetry, art, cartoons, and the problems with the commercialization of the Seuss name and works after his death. It is not, to any real extent, a biography. Those seeking such should move on.As an academic book it leans on the dry side. It assumes the reader has a fairly good knowledge of Children's Literature and 20th Century cartoons (not the animated kind). Not a book to begin your Dr. Seuss experience with. But if you have read them to your children and are interested about the writing style (there is a good chapter about his poetry) or his art style (not as good a chapter, but still interesting).What interested me the most was the deconstruction of the recent rush to \"cash in\" on Seuss by Hollywood and advertisers. I think that Nel wants to come down against it, but based on Seuss' background (he started out drawing Flit ads) and the projects he approved during his lifetime; it is a tough argument to make. In the end though Nel does point out that maybe the movies and tie- ins did not have to be so... crass?The book is well researched; lots of neat tidbits are to be gleamed. Early cartoons by Seuss for PM magazine were occasionally (by today's standards) shockingly racist. It makes him a little more human and puts his latter works like the Lorax in a new light.Those in Education may enjoy this background. Fans of Seuss will enjoy the exhaustive bibliography of Seuss's many, many works. Also good list of other works about the man."
        ],
        [
         "4",
         "0826414346",
         "Dr. Seuss: American Icon",
         "4.0",
         "\"Dr. Seuss: American Icon\" by Philip Nel is a thoughtful deconstruction of the life and work of Theodore Geisel (aka Dr. Seuss). In this thoughtful book, Mr. Nel deepens our appreciation for Seuss as a distinctively American poet, artist and educator. The author demonstrates Seuss' wide ranging influence and argues for his rightful place among the most important cultural figures of the 20th century.An English professor at Kansas State University, Mr. Nel uses his historic knowledge to discuss how Seuss' text belongs to a tradition of great nonsense writers. Mr. Nel states that Seuss' carefully-constructed absurdist tales encourage children to challenge the status quo by gently skewering the grown-up world; elsewhere, he uses charts to show how Seuss effectively used meter and rhyme to complement his intentionally ridiculous plots and create masterful stories that have stood up well to the test of time.Mr. Nel recounts Seuss' early career as advertising illustrator and political cartoonist to help us better understand the influences that shaped his classic children's work. As an artist, Mr. Nel suggests that the term \"energetic cartoon surrealism\" appropriately describes Seuss' creative synthesis of cubism, art nouveau, surrealism and other styles. While Seuss' influence can be detected in modern rap music, children's books, political cartoons and more, Mr. Nel contends that Seuss would not have been happy about the manner in which his works have been posthumously marketed, opining that the \"Disneyification\" or simplification of Seuss' stories for marketable purposes \"threatens to make 'Seuss' synomynous with the ambiguous power of global capitalism\". Such commercialism would appear to collide with Seuss' desire to develop critical thinking among young people and to help us all imagine a better world.I highly recommend this book for everyone interested in gaining greater insight and perspective into one of America's greatest creative talents."
        ]
       ],
       "shape": {
        "columns": 4,
        "rows": 5
       }
      },
      "text/html": [
       "<div>\n",
       "<style scoped>\n",
       "    .dataframe tbody tr th:only-of-type {\n",
       "        vertical-align: middle;\n",
       "    }\n",
       "\n",
       "    .dataframe tbody tr th {\n",
       "        vertical-align: top;\n",
       "    }\n",
       "\n",
       "    .dataframe thead th {\n",
       "        text-align: right;\n",
       "    }\n",
       "</style>\n",
       "<table border=\"1\" class=\"dataframe\">\n",
       "  <thead>\n",
       "    <tr style=\"text-align: right;\">\n",
       "      <th></th>\n",
       "      <th>ISBN</th>\n",
       "      <th>Title</th>\n",
       "      <th>rating</th>\n",
       "      <th>review_text</th>\n",
       "    </tr>\n",
       "  </thead>\n",
       "  <tbody>\n",
       "    <tr>\n",
       "      <th>0</th>\n",
       "      <td>0826414346</td>\n",
       "      <td>Dr. Seuss: American Icon</td>\n",
       "      <td>5.0</td>\n",
       "      <td>I don't care much for Dr. Seuss but after read...</td>\n",
       "    </tr>\n",
       "    <tr>\n",
       "      <th>1</th>\n",
       "      <td>0826414346</td>\n",
       "      <td>Dr. Seuss: American Icon</td>\n",
       "      <td>5.0</td>\n",
       "      <td>If people become the books they read and if \"t...</td>\n",
       "    </tr>\n",
       "    <tr>\n",
       "      <th>2</th>\n",
       "      <td>0826414346</td>\n",
       "      <td>Dr. Seuss: American Icon</td>\n",
       "      <td>4.0</td>\n",
       "      <td>Theodore Seuss Geisel (1904-1991), aka &amp;quot;D...</td>\n",
       "    </tr>\n",
       "    <tr>\n",
       "      <th>3</th>\n",
       "      <td>0826414346</td>\n",
       "      <td>Dr. Seuss: American Icon</td>\n",
       "      <td>4.0</td>\n",
       "      <td>Philip Nel - Dr. Seuss: American IconThis is b...</td>\n",
       "    </tr>\n",
       "    <tr>\n",
       "      <th>4</th>\n",
       "      <td>0826414346</td>\n",
       "      <td>Dr. Seuss: American Icon</td>\n",
       "      <td>4.0</td>\n",
       "      <td>\"Dr. Seuss: American Icon\" by Philip Nel is a ...</td>\n",
       "    </tr>\n",
       "  </tbody>\n",
       "</table>\n",
       "</div>"
      ],
      "text/plain": [
       "         ISBN                     Title  rating  \\\n",
       "0  0826414346  Dr. Seuss: American Icon     5.0   \n",
       "1  0826414346  Dr. Seuss: American Icon     5.0   \n",
       "2  0826414346  Dr. Seuss: American Icon     4.0   \n",
       "3  0826414346  Dr. Seuss: American Icon     4.0   \n",
       "4  0826414346  Dr. Seuss: American Icon     4.0   \n",
       "\n",
       "                                         review_text  \n",
       "0  I don't care much for Dr. Seuss but after read...  \n",
       "1  If people become the books they read and if \"t...  \n",
       "2  Theodore Seuss Geisel (1904-1991), aka &quot;D...  \n",
       "3  Philip Nel - Dr. Seuss: American IconThis is b...  \n",
       "4  \"Dr. Seuss: American Icon\" by Philip Nel is a ...  "
      ]
     },
     "execution_count": 9,
     "metadata": {},
     "output_type": "execute_result"
    }
   ],
   "source": [
    "print(df_reviews.columns)\n",
    "df_reviews.head()"
   ]
  },
  {
   "cell_type": "markdown",
   "id": "7e41c6a4",
   "metadata": {},
   "source": [
    "## Indie book recommendations with TF‑IDF + cosine similarity\n",
    "\n",
    "We’ll recommend indie books based on textual similarity of reviews.\n",
    "\n",
    "High‑level steps:\n",
    "- Normalize titles to improve joins.\n",
    "- Aggregate all review texts per book (Title).\n",
    "- Build a TF‑IDF matrix of these texts.\n",
    "- Given 2–3 favorite titles, average their TF‑IDF vectors to form a “preference vector”.\n",
    "- Compute cosine similarity between this vector and all books, then return the top indie titles only.\n",
    "\n",
    "Notes:\n",
    "- If a book has no reviews, we’ll optionally fall back to its description to avoid empty text.\n",
    "- Favorites not found (or with no text) are ignored with a warning.\n",
    "- We exclude the input favorites from the final results by default."
   ]
  },
  {
   "cell_type": "code",
   "execution_count": 1,
   "id": "f3521683",
   "metadata": {},
   "outputs": [],
   "source": [
    "# Imports for modeling and utilities\n",
    "import numpy as np\n",
    "try:\n",
    "    from sklearn.feature_extraction.text import TfidfVectorizer\n",
    "    from sklearn.metrics.pairwise import cosine_similarity\n",
    "    from sklearn.decomposition import TruncatedSVD\n",
    "    SKLEARN_AVAILABLE = True\n",
    "except Exception as e:\n",
    "    SKLEARN_AVAILABLE = False\n",
    "    print(\"scikit-learn is not available. Please install it to run the recommender.\")\n",
    "    print(\"Error:\", e)\n",
    "\n",
    "import re\n",
    "from typing import List, Tuple"
   ]
  },
  {
   "cell_type": "code",
   "execution_count": null,
   "id": "2e26ffc7",
   "metadata": {},
   "outputs": [
    {
     "ename": "NameError",
     "evalue": "name 'df_books' is not defined",
     "output_type": "error",
     "traceback": [
      "\u001b[31m---------------------------------------------------------------------------\u001b[39m",
      "\u001b[31mNameError\u001b[39m                                 Traceback (most recent call last)",
      "\u001b[36mCell\u001b[39m\u001b[36m \u001b[39m\u001b[32mIn[2]\u001b[39m\u001b[32m, line 8\u001b[39m\n\u001b[32m      5\u001b[39m     \u001b[38;5;28;01mreturn\u001b[39;00m re.sub(\u001b[33mr\u001b[39m\u001b[33m\"\u001b[39m\u001b[33m\\\u001b[39m\u001b[33ms+\u001b[39m\u001b[33m\"\u001b[39m, \u001b[33m\"\u001b[39m\u001b[33m \u001b[39m\u001b[33m\"\u001b[39m, s.strip().lower())\n\u001b[32m      7\u001b[39m \u001b[38;5;66;03m# Create normalized keys for joining\u001b[39;00m\n\u001b[32m----> \u001b[39m\u001b[32m8\u001b[39m df_books[\u001b[33m'\u001b[39m\u001b[33mTitle_norm\u001b[39m\u001b[33m'\u001b[39m] = \u001b[43mdf_books\u001b[49m[\u001b[33m'\u001b[39m\u001b[33mTitle\u001b[39m\u001b[33m'\u001b[39m].apply(_normalize_title)\n\u001b[32m      9\u001b[39m df_reviews[\u001b[33m'\u001b[39m\u001b[33mTitle_norm\u001b[39m\u001b[33m'\u001b[39m] = df_reviews[\u001b[33m'\u001b[39m\u001b[33mTitle\u001b[39m\u001b[33m'\u001b[39m].apply(_normalize_title)\n\u001b[32m     11\u001b[39m \u001b[38;5;66;03m# Aggregate review texts by Title\u001b[39;00m\n",
      "\u001b[31mNameError\u001b[39m: name 'df_books' is not defined"
     ]
    }
   ],
   "source": [
    "# Prepare aggregated review text per Title and join with books\n",
    "def _normalize_title(s: str) -> str:\n",
    "    if not isinstance(s, str):\n",
    "        return \"\"\n",
    "    return re.sub(r\"\\s+\", \" \", s.strip().lower())\n",
    "\n",
    "# Create normalized keys for joining\n",
    "df_books['Title_norm'] = df_books['Title'].apply(_normalize_title)\n",
    "df_reviews['Title_norm'] = df_reviews['Title'].apply(_normalize_title)\n",
    "\n",
    "# Aggregate review texts by Title\n",
    "agg_reviews = (\n",
    "    df_reviews\n",
    "    .dropna(subset=['review_text'])\n",
    "    .groupby('Title_norm', as_index=False)\n",
    "    .agg({\n",
    "        'review_text': lambda s: \" \\n\".join(map(str, s)),\n",
    "        'rating': 'mean'\n",
    "    })\n",
    "    .rename(columns={'rating': 'avg_review_rating_from_reviews'})\n",
    ")\n",
    "\n",
    "# Merge with books; keep description and aggregated review text separate\n",
    "df_books_text = df_books.merge(agg_reviews, on='Title_norm', how='left')\n",
    "df_books_text['review_text_agg'] = df_books_text['review_text'].fillna(\"\")\n",
    "df_books_text['desc_text'] = df_books_text['description'].fillna(\"\")\n",
    "\n",
    "# Optional: enrich review text with description if reviews are sparse (so review side isn't empty)\n",
    "mask_sparse_reviews = df_books_text['review_text_agg'].str.len() < 50\n",
    "df_books_text.loc[mask_sparse_reviews, 'review_text_agg'] = (\n",
    "    df_books_text.loc[mask_sparse_reviews, 'review_text_agg'] +\n",
    "    \" \\n\" + df_books_text.loc[mask_sparse_reviews, 'desc_text'].astype(str)\n",
    ")\n",
    "\n",
    "# Keep only rows with some text on at least description OR reviews\n",
    "has_any_text = (df_books_text['desc_text'].str.strip().str.len() > 0) | (df_books_text['review_text_agg'].str.strip().str.len() > 0)\n",
    "df_books_text = df_books_text[has_any_text].reset_index(drop=True)\n",
    "\n",
    "# Helpers and info\n",
    "is_indie_mask = df_books_text['is_indie'] == True\n",
    "print(f\"Prepared text for {len(df_books_text)} books; indie count in this set: {int(is_indie_mask.sum())}\")"
   ]
  },
  {
   "cell_type": "code",
   "execution_count": null,
   "id": "a51f8f07",
   "metadata": {},
   "outputs": [
    {
     "ename": "",
     "evalue": "",
     "output_type": "error",
     "traceback": [
      "\u001b[1;31mThe Kernel crashed while executing code in the current cell or a previous cell. \n",
      "\u001b[1;31mPlease review the code in the cell(s) to identify a possible cause of the failure. \n",
      "\u001b[1;31mClick <a href='https://aka.ms/vscodeJupyterKernelCrash'>here</a> for more info. \n",
      "\u001b[1;31mView Jupyter <a href='command:jupyter.viewOutput'>log</a> for further details."
     ]
    }
   ],
   "source": [
    "# Build TF-IDF matrices for description and reviews, then enforce SVD reduction\n",
    "if not SKLEARN_AVAILABLE:\n",
    "    raise RuntimeError(\"scikit-learn is required to build TF-IDF. Please install scikit-learn.\")\n",
    "\n",
    "# TF-IDF on description (heavier weight later)\n",
    "tfidf_desc = TfidfVectorizer(\n",
    "    lowercase=True,\n",
    "    stop_words='english',\n",
    "    max_df=0.8,\n",
    "    min_df=5,\n",
    "    ngram_range=(1,1),\n",
    "    max_features=50000,\n",
    "    dtype=np.float32,\n",
    ")\n",
    "X_desc = tfidf_desc.fit_transform(df_books_text['desc_text'])\n",
    "print(f\"TF-IDF(desc) shape: {X_desc.shape}\")\n",
    "\n",
    "# TF-IDF on reviews (supportive feature)\n",
    "tfidf_rev = TfidfVectorizer(\n",
    "    lowercase=True,\n",
    "    stop_words='english',\n",
    "    max_df=0.8,\n",
    "    min_df=5,\n",
    "    ngram_range=(1,1),\n",
    "    max_features=30000,\n",
    "    dtype=np.float32,\n",
    ")\n",
    "X_rev = tfidf_rev.fit_transform(df_books_text['review_text_agg'])\n",
    "print(f\"TF-IDF(rev) shape: {X_rev.shape}\")\n",
    "\n",
    "# Mapping: normalized title -> row index for robust lookups\n",
    "title_norm_to_row = {t: i for i, t in enumerate(df_books_text['Title_norm'])}\n",
    "\n",
    "# Enforce SVD dimensionality reduction before recommendations\n",
    "from sklearn.decomposition import TruncatedSVD\n",
    "USE_SVD = True\n",
    "SVD_COMPONENTS = 300\n",
    "\n",
    "# SVD reduce description\n",
    "svd_desc = TruncatedSVD(n_components=max(2, min(SVD_COMPONENTS, X_desc.shape[1]-1)), random_state=42)\n",
    "X_desc_reduced = svd_desc.fit_transform(X_desc)\n",
    "X_desc_reduced = X_desc_reduced / (np.linalg.norm(X_desc_reduced, axis=1, keepdims=True) + 1e-12)\n",
    "print(f\"SVD(desc) shape: {X_desc_reduced.shape}\")\n",
    "\n",
    "# SVD reduce reviews\n",
    "svd_rev = TruncatedSVD(n_components=max(2, min(SVD_COMPONENTS, X_rev.shape[1]-1)), random_state=42)\n",
    "X_review_reduced = svd_rev.fit_transform(X_rev)\n",
    "X_review_reduced = X_review_reduced / (np.linalg.norm(X_review_reduced, axis=1, keepdims=True) + 1e-12)\n",
    "print(f\"SVD(rev) shape: {X_review_reduced.shape}\")"
   ]
  },
  {
   "cell_type": "code",
   "execution_count": null,
   "id": "5ecee1f6",
   "metadata": {},
   "outputs": [],
   "source": [
    "# Define recommender with genre constraint and indie boost\n",
    "GENRE_WEIGHT = 0.6   # genre/description importance dominates\n",
    "REVIEW_WEIGHT = 0.4  # reviews supportive\n",
    "INDIE_BOOST = 0.1   # additive boost for indie titles\n",
    "\n",
    "# Helper: normalize genre tokens\n",
    "def _norm_genre_list(x):\n",
    "    if isinstance(x, str):\n",
    "        s = x.lower()\n",
    "        parts = re.split(r\"[;,]\", s)\n",
    "        return {p.strip() for p in parts if p.strip()}\n",
    "    if isinstance(x, (list, tuple, set)):\n",
    "        return {str(p).strip().lower() for p in x if str(p).strip()}\n",
    "    return set()\n",
    "\n",
    "def recommend_indie_books(favorite_titles: List[str], top_k: int = 10, exclude_favorites: bool = True) -> pd.DataFrame:\n",
    "    \"\"\"\n",
    "    Recommend books prioritizing genre/description similarity, then reviews; enforce genre match; boost indie.\n",
    "    If no overlapping genre exists with favorites, fall back to closest overall by combined score.\n",
    "    \"\"\"\n",
    "    # Ensure reductions exist\n",
    "    for var in ['X_desc_reduced', 'X_review_reduced']:\n",
    "        if var not in globals() or globals()[var] is None:\n",
    "            raise RuntimeError(\"SVD reduction required. Run the TF-IDF + SVD cell first.\")\n",
    "\n",
    "    norm_favs = [_normalize_title(t) for t in favorite_titles]\n",
    "    indices = [title_norm_to_row.get(t) for t in norm_favs]\n",
    "    fav_idx = [i for i in indices if i is not None]\n",
    "    if not fav_idx:\n",
    "        print(\"No favorite titles found in the corpus. Check spelling or availability.\")\n",
    "        return pd.DataFrame(columns=['Title','similarity'])\n",
    "\n",
    "    # Build preference vectors (mean of favorites) and normalize\n",
    "    pref_desc = X_desc_reduced[fav_idx].mean(axis=0, keepdims=True)\n",
    "    pref_desc = pref_desc / (np.linalg.norm(pref_desc, axis=1, keepdims=True) + 1e-12)\n",
    "\n",
    "    pref_rev = X_review_reduced[fav_idx].mean(axis=0, keepdims=True)\n",
    "    pref_rev = pref_rev / (np.linalg.norm(pref_rev, axis=1, keepdims=True) + 1e-12)\n",
    "\n",
    "    # Compute cosine similarities via dot\n",
    "    sims_desc = (pref_desc @ X_desc_reduced.T).ravel()\n",
    "    sims_rev = (pref_rev @ X_review_reduced.T).ravel()\n",
    "\n",
    "    # Enforce genre match: only keep books sharing at least one genre term with ANY favorite\n",
    "    fav_genres_sets = []\n",
    "    for i in fav_idx:\n",
    "        fav_genres_sets.append(_norm_genre_list(df_books_text.loc[i, 'categories'] if 'categories' in df_books_text.columns else ''))\n",
    "    fav_genres_union = set().union(*fav_genres_sets) if fav_genres_sets else set()\n",
    "\n",
    "    book_genres = df_books_text['categories'].fillna(\"\").apply(_norm_genre_list)\n",
    "    genre_match_mask = book_genres.apply(lambda g: len(g.intersection(fav_genres_union)) > 0)\n",
    "\n",
    "    # Combine scores with weights and indie boost\n",
    "    combined = GENRE_WEIGHT * sims_desc + REVIEW_WEIGHT * sims_rev\n",
    "    indie_mask = (df_books_text['is_indie'] == True)\n",
    "    combined = combined + INDIE_BOOST * indie_mask.values.astype(float)\n",
    "\n",
    "    # Prepare results\n",
    "    result = df_books_text.copy()\n",
    "    result['similarity'] = combined\n",
    "\n",
    "    # Align genre mask to current result and apply; if none matched, fall back to overall similarity\n",
    "    aligned_mask = genre_match_mask.reindex(result.index, fill_value=False)\n",
    "    if aligned_mask.any():\n",
    "        result = result[aligned_mask.to_numpy()]\n",
    "    else:\n",
    "        print(\"No overlapping genres found; falling back to closest overall matches by score.\")\n",
    "\n",
    "    if exclude_favorites:\n",
    "        result = result[~result['Title_norm'].isin(norm_favs)]\n",
    "\n",
    "    # Sort by similarity and return top_k\n",
    "    cols = ['Title','main_author','avg_rating','is_indie','genre','categories','similarity','previewLink','infoLink']\n",
    "    existing_cols = [c for c in cols if c in result.columns]\n",
    "    return result.sort_values(by='similarity', ascending=False)[existing_cols].head(top_k)"
   ]
  },
  {
   "cell_type": "code",
   "execution_count": null,
   "id": "0a655628",
   "metadata": {},
   "outputs": [],
   "source": [
    "# Example usage: ensure genre match and indie boost are applied\n",
    "example_favorites = [\n",
    "    df_books_text['Title'].iloc[0] if len(df_books_text) > 0 else 'Unknown',\n",
    "]\n",
    "print('Favorites used for demo:', example_favorites)\n",
    "try:\n",
    "    out = recommend_indie_books(example_favorites, top_k=10)\n",
    "    display(out)\n",
    "    print(\"Indie in results:\", int((out['is_indie'] == True).sum()))\n",
    "except Exception as e:\n",
    "    print(\"Recommendation failed:\", e)"
   ]
  }
 ],
 "metadata": {
  "kernelspec": {
   "display_name": "data_science",
   "language": "python",
   "name": "python3"
  },
  "language_info": {
   "codemirror_mode": {
    "name": "ipython",
    "version": 3
   },
   "file_extension": ".py",
   "mimetype": "text/x-python",
   "name": "python",
   "nbconvert_exporter": "python",
   "pygments_lexer": "ipython3",
   "version": "3.12.11"
  }
 },
 "nbformat": 4,
 "nbformat_minor": 5
}
